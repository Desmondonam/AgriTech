{
 "cells": [
  {
   "cell_type": "code",
   "execution_count": 1,
   "id": "547da911",
   "metadata": {},
   "outputs": [
    {
     "name": "stdout",
     "output_type": "stream",
     "text": [
      "Collecting agri-tech==0.1.9Note: you may need to restart the kernel to use updated packages.\n",
      "\n"
     ]
    },
    {
     "name": "stderr",
     "output_type": "stream",
     "text": [
      "  error: subprocess-exited-with-error\n",
      "  \n",
      "  Getting requirements to build wheel did not run successfully.\n",
      "  exit code: 1\n"
     ]
    },
    {
     "name": "stdout",
     "output_type": "stream",
     "text": [
      "  Downloading agri_tech-0.1.9-py2.py3-none-any.whl (29 kB)\n",
      "Requirement already satisfied: PDAL in c:\\users\\desmond\\anaconda3\\lib\\site-packages (from agri-tech==0.1.9) (3.0.2)\n",
      "Requirement already satisfied: GDAL in c:\\users\\desmond\\anaconda3\\lib\\site-packages (from agri-tech==0.1.9) (3.3.1)\n",
      "Collecting rasterio\n",
      "  Downloading rasterio-1.2.10.tar.gz (2.3 MB)\n",
      "     ---------------------------------------- 2.3/2.3 MB 2.4 MB/s eta 0:00:00\n",
      "  Installing build dependencies: started\n",
      "  Installing build dependencies: still running...\n",
      "  Installing build dependencies: finished with status 'done'\n",
      "  Getting requirements to build wheel: started\n",
      "  Getting requirements to build wheel: finished with status 'error'\n"
     ]
    },
    {
     "name": "stderr",
     "output_type": "stream",
     "text": [
      "  \n",
      "  [2 lines of output]\n",
      "  INFO:root:Building on Windows requires extra options to setup.py to locate needed GDAL files. More information is available in the README.\n",
      "  ERROR: A GDAL API version must be specified. Provide a path to gdal-config using a GDAL_CONFIG environment variable or use a GDAL_VERSION environment variable.\n",
      "  [end of output]\n",
      "  \n",
      "  note: This error originates from a subprocess, and is likely not a problem with pip.\n",
      "error: subprocess-exited-with-error\n",
      "\n",
      "Getting requirements to build wheel did not run successfully.\n",
      "exit code: 1\n",
      "\n",
      "See above for output.\n",
      "\n",
      "note: This error originates from a subprocess, and is likely not a problem with pip.\n"
     ]
    }
   ],
   "source": [
    "pip install agri-tech==0.1.9"
   ]
  },
  {
   "cell_type": "code",
   "execution_count": 2,
   "id": "6b4e8aa1",
   "metadata": {},
   "outputs": [
    {
     "ename": "ModuleNotFoundError",
     "evalue": "No module named 'agri_tech'",
     "output_type": "error",
     "traceback": [
      "\u001b[1;31m---------------------------------------------------------------------------\u001b[0m",
      "\u001b[1;31mModuleNotFoundError\u001b[0m                       Traceback (most recent call last)",
      "\u001b[1;32m<ipython-input-2-ad4f12c03db1>\u001b[0m in \u001b[0;36m<module>\u001b[1;34m\u001b[0m\n\u001b[1;32m----> 1\u001b[1;33m \u001b[1;32mimport\u001b[0m \u001b[0magri_tech\u001b[0m\u001b[1;33m\u001b[0m\u001b[1;33m\u001b[0m\u001b[0m\n\u001b[0m",
      "\u001b[1;31mModuleNotFoundError\u001b[0m: No module named 'agri_tech'"
     ]
    }
   ],
   "source": [
    "import agri_tech"
   ]
  },
  {
   "cell_type": "code",
   "execution_count": null,
   "id": "31980781",
   "metadata": {},
   "outputs": [],
   "source": [
    "from agri_tech import agri_tech\n"
   ]
  },
  {
   "cell_type": "code",
   "execution_count": null,
   "id": "2cf31f7f",
   "metadata": {},
   "outputs": [],
   "source": [
    "method = agri_tech.Lidar()"
   ]
  },
  {
   "cell_type": "code",
   "execution_count": null,
   "id": "41f11ac6",
   "metadata": {},
   "outputs": [],
   "source": [
    "method.region()"
   ]
  },
  {
   "cell_type": "code",
   "execution_count": null,
   "id": "713844db",
   "metadata": {},
   "outputs": [],
   "source": [
    "method.ept_json()"
   ]
  },
  {
   "cell_type": "code",
   "execution_count": null,
   "id": "90441072",
   "metadata": {},
   "outputs": [],
   "source": [
    "method.pipeline(xmin = -93.756155,xmax = -93.747334, ymin = 41.918015, ymax = 41.921429)"
   ]
  },
  {
   "cell_type": "code",
   "execution_count": null,
   "id": "faced75b",
   "metadata": {},
   "outputs": [],
   "source": [
    "method.run_pipeline()"
   ]
  },
  {
   "cell_type": "code",
   "execution_count": null,
   "id": "0a6aa771",
   "metadata": {},
   "outputs": [],
   "source": [
    "method.geodf('spatial_subset.geojson')"
   ]
  },
  {
   "cell_type": "code",
   "execution_count": null,
   "id": "d35c69a5",
   "metadata": {},
   "outputs": [],
   "source": [
    "method.plot_raster('spatial_subset.tif')"
   ]
  },
  {
   "cell_type": "code",
   "execution_count": 3,
   "id": "f69140ac",
   "metadata": {},
   "outputs": [
    {
     "ename": "NameError",
     "evalue": "name 'method' is not defined",
     "output_type": "error",
     "traceback": [
      "\u001b[1;31m---------------------------------------------------------------------------\u001b[0m",
      "\u001b[1;31mNameError\u001b[0m                                 Traceback (most recent call last)",
      "\u001b[1;32m<ipython-input-3-8047cdf1aa18>\u001b[0m in \u001b[0;36m<module>\u001b[1;34m\u001b[0m\n\u001b[1;32m----> 1\u001b[1;33m \u001b[0mmethod\u001b[0m\u001b[1;33m.\u001b[0m\u001b[0mplot3d\u001b[0m\u001b[1;33m(\u001b[0m\u001b[1;33m)\u001b[0m\u001b[1;33m\u001b[0m\u001b[1;33m\u001b[0m\u001b[0m\n\u001b[0m",
      "\u001b[1;31mNameError\u001b[0m: name 'method' is not defined"
     ]
    }
   ],
   "source": [
    "method.plot3d()"
   ]
  },
  {
   "cell_type": "code",
   "execution_count": null,
   "id": "d32105a2",
   "metadata": {},
   "outputs": [],
   "source": []
  }
 ],
 "metadata": {
  "kernelspec": {
   "display_name": "Python 3",
   "language": "python",
   "name": "python3"
  },
  "language_info": {
   "codemirror_mode": {
    "name": "ipython",
    "version": 3
   },
   "file_extension": ".py",
   "mimetype": "text/x-python",
   "name": "python",
   "nbconvert_exporter": "python",
   "pygments_lexer": "ipython3",
   "version": "3.8.8"
  }
 },
 "nbformat": 4,
 "nbformat_minor": 5
}
